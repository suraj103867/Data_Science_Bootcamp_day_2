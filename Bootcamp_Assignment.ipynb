{
 "cells": [
  {
   "cell_type": "markdown",
   "id": "c56d7a8d",
   "metadata": {},
   "source": [
    "### 1.\tGiven a list of integers, remove all occurrences of a specific value using a list method. \n",
    "  \n"
   ]
  },
  {
   "cell_type": "code",
   "execution_count": 1,
   "id": "6fbeeba0",
   "metadata": {},
   "outputs": [],
   "source": [
    "lst = [1, 2, 3, 4, 3, 5, 3, 6]\n"
   ]
  },
  {
   "cell_type": "code",
   "execution_count": 2,
   "id": "d6f72611",
   "metadata": {},
   "outputs": [
    {
     "data": {
      "text/plain": [
       "[1, 2, 3, 4, 3, 5, 3, 6]"
      ]
     },
     "execution_count": 2,
     "metadata": {},
     "output_type": "execute_result"
    }
   ],
   "source": [
    "lst"
   ]
  },
  {
   "cell_type": "code",
   "execution_count": 6,
   "id": "82d8d1c5",
   "metadata": {},
   "outputs": [],
   "source": [
    "lst.remove(3)"
   ]
  },
  {
   "cell_type": "code",
   "execution_count": 7,
   "id": "c61beb90",
   "metadata": {},
   "outputs": [
    {
     "data": {
      "text/plain": [
       "[1, 2, 4, 3, 3, 6]"
      ]
     },
     "execution_count": 7,
     "metadata": {},
     "output_type": "execute_result"
    }
   ],
   "source": [
    "lst"
   ]
  },
  {
   "cell_type": "markdown",
   "id": "7afc07c5",
   "metadata": {},
   "source": [
    "### 2.\tConcatenate a list of strings into a single string, with each element separated by a space, using a list method."
   ]
  },
  {
   "cell_type": "code",
   "execution_count": 8,
   "id": "358ba3c8",
   "metadata": {},
   "outputs": [
    {
     "data": {
      "text/plain": [
       "'Hello world this is Python'"
      ]
     },
     "execution_count": 8,
     "metadata": {},
     "output_type": "execute_result"
    }
   ],
   "source": [
    "lst = [\"Hello\", \"world\", \"this\", \"is\", \"Python\"]\n",
    "\" \".join(lst)"
   ]
  },
  {
   "cell_type": "markdown",
   "id": "26dc851a",
   "metadata": {},
   "source": [
    "### 3.\tReverse a list of integers using a built-in list method.\n"
   ]
  },
  {
   "cell_type": "code",
   "execution_count": 13,
   "id": "892c12bd",
   "metadata": {},
   "outputs": [],
   "source": [
    "# create the list\n",
    "lst=[3,4,5,6,7,23,456,67,8,78,78]"
   ]
  },
  {
   "cell_type": "code",
   "execution_count": 14,
   "id": "e66f3f81",
   "metadata": {},
   "outputs": [
    {
     "data": {
      "text/plain": [
       "[3, 4, 5, 6, 7, 23, 456, 67, 8, 78, 78]"
      ]
     },
     "execution_count": 14,
     "metadata": {},
     "output_type": "execute_result"
    }
   ],
   "source": [
    "lst"
   ]
  },
  {
   "cell_type": "code",
   "execution_count": 15,
   "id": "03447221",
   "metadata": {},
   "outputs": [
    {
     "data": {
      "text/plain": [
       "[78, 78, 8, 67, 456, 23, 7, 6, 5, 4, 3]"
      ]
     },
     "execution_count": 15,
     "metadata": {},
     "output_type": "execute_result"
    }
   ],
   "source": [
    "lst.reverse()\n",
    "lst"
   ]
  },
  {
   "cell_type": "markdown",
   "id": "36815544",
   "metadata": {},
   "source": [
    "### 4.\tSort a list of numbers in descending order using a built-in list method."
   ]
  },
  {
   "cell_type": "code",
   "execution_count": 16,
   "id": "b7e2caa2",
   "metadata": {},
   "outputs": [
    {
     "data": {
      "text/plain": [
       "[78, 78, 8, 67, 456, 23, 7, 6, 5, 4, 3]"
      ]
     },
     "execution_count": 16,
     "metadata": {},
     "output_type": "execute_result"
    }
   ],
   "source": [
    "lst"
   ]
  },
  {
   "cell_type": "code",
   "execution_count": 17,
   "id": "0729e467",
   "metadata": {},
   "outputs": [],
   "source": [
    "lst.sort(reverse=True)"
   ]
  },
  {
   "cell_type": "code",
   "execution_count": 18,
   "id": "b0a21aa8",
   "metadata": {},
   "outputs": [
    {
     "data": {
      "text/plain": [
       "[456, 78, 78, 67, 23, 8, 7, 6, 5, 4, 3]"
      ]
     },
     "execution_count": 18,
     "metadata": {},
     "output_type": "execute_result"
    }
   ],
   "source": [
    "lst"
   ]
  },
  {
   "cell_type": "markdown",
   "id": "ed400c74",
   "metadata": {},
   "source": [
    "### 5.\tGiven two lists, combine them into a single list and remove any duplicate elements using a list method.\n"
   ]
  },
  {
   "cell_type": "code",
   "execution_count": 19,
   "id": "35a2bfb3",
   "metadata": {},
   "outputs": [],
   "source": [
    "lst1 = [1, 2, 3, 4]\n",
    "lst2 = [3, 4, 5, 6]"
   ]
  },
  {
   "cell_type": "code",
   "execution_count": 20,
   "id": "73f121db",
   "metadata": {},
   "outputs": [],
   "source": [
    "lst3=lst1+lst2"
   ]
  },
  {
   "cell_type": "code",
   "execution_count": 22,
   "id": "23f95e85",
   "metadata": {},
   "outputs": [
    {
     "data": {
      "text/plain": [
       "[1, 2, 3, 4, 3, 4, 5, 6]"
      ]
     },
     "execution_count": 22,
     "metadata": {},
     "output_type": "execute_result"
    }
   ],
   "source": [
    "lst3"
   ]
  },
  {
   "cell_type": "markdown",
   "id": "da34b3a0",
   "metadata": {},
   "source": [
    "### 6.\tConvert a tuple of integers into a list and remove the first and last elements using a tuple method."
   ]
  },
  {
   "cell_type": "code",
   "execution_count": 26,
   "id": "c9512969",
   "metadata": {},
   "outputs": [],
   "source": [
    "tup = (10, 20, 30, 40, 50, 90, 80)\n",
    "lst = list(tup)\n",
    "lst = lst[1:-1]"
   ]
  },
  {
   "cell_type": "code",
   "execution_count": 27,
   "id": "769aa464",
   "metadata": {},
   "outputs": [
    {
     "data": {
      "text/plain": [
       "[20, 30, 40, 50, 90]"
      ]
     },
     "execution_count": 27,
     "metadata": {},
     "output_type": "execute_result"
    }
   ],
   "source": [
    "lst"
   ]
  },
  {
   "cell_type": "markdown",
   "id": "91eaed3e",
   "metadata": {},
   "source": [
    "### 7.\tGiven a list of tuples, extract all the first elements of each tuple into a separate list using tuple unpacking"
   ]
  },
  {
   "cell_type": "code",
   "execution_count": 30,
   "id": "aac4c7be",
   "metadata": {},
   "outputs": [],
   "source": [
    "ds=[(1, 'sursj'), (2, 'naman'),\n",
    "        (3, 'shyam'), (4, 'ujjwal'),\n",
    "        (5, 'anuj')]"
   ]
  },
  {
   "cell_type": "code",
   "execution_count": 31,
   "id": "91b84a92",
   "metadata": {},
   "outputs": [
    {
     "data": {
      "text/plain": [
       "[(1, 'sursj'), (2, 'naman'), (3, 'shyam'), (4, 'ujjwal'), (5, 'anuj')]"
      ]
     },
     "execution_count": 31,
     "metadata": {},
     "output_type": "execute_result"
    }
   ],
   "source": [
    "ds"
   ]
  },
  {
   "cell_type": "code",
   "execution_count": 32,
   "id": "243b2a3d",
   "metadata": {},
   "outputs": [
    {
     "name": "stdout",
     "output_type": "stream",
     "text": [
      "1\n",
      "2\n",
      "3\n",
      "4\n",
      "5\n"
     ]
    }
   ],
   "source": [
    "for i in ds:\n",
    "    print(i[0])"
   ]
  },
  {
   "cell_type": "markdown",
   "id": "6fbd0648",
   "metadata": {},
   "source": [
    "### 8.\tCombine two tuples into a single tuple."
   ]
  },
  {
   "cell_type": "code",
   "execution_count": 33,
   "id": "14441399",
   "metadata": {},
   "outputs": [],
   "source": [
    "t1 = (1, 2, 3)\n",
    "t2 = (4, 5, 6)\n",
    "t3 = t1+t2"
   ]
  },
  {
   "cell_type": "code",
   "execution_count": 34,
   "id": "ec970849",
   "metadata": {},
   "outputs": [
    {
     "data": {
      "text/plain": [
       "(1, 2, 3, 4, 5, 6)"
      ]
     },
     "execution_count": 34,
     "metadata": {},
     "output_type": "execute_result"
    }
   ],
   "source": [
    "t3"
   ]
  },
  {
   "cell_type": "markdown",
   "id": "36bae3e9",
   "metadata": {},
   "source": [
    "### 9.\tFind the maximum and minimum values in a tuple of numbers using tuple methods.\n"
   ]
  },
  {
   "cell_type": "code",
   "execution_count": 37,
   "id": "9136105b",
   "metadata": {},
   "outputs": [],
   "source": [
    "m = (10, 20, 5, 30, 15, 23, 45, 65, 98)"
   ]
  },
  {
   "cell_type": "code",
   "execution_count": 39,
   "id": "e05136f3",
   "metadata": {},
   "outputs": [
    {
     "data": {
      "text/plain": [
       "(10, 20, 5, 30, 15, 23, 45, 65, 98)"
      ]
     },
     "execution_count": 39,
     "metadata": {},
     "output_type": "execute_result"
    }
   ],
   "source": [
    "m"
   ]
  },
  {
   "cell_type": "code",
   "execution_count": 45,
   "id": "c3e0e4d4",
   "metadata": {},
   "outputs": [
    {
     "data": {
      "text/plain": [
       "98"
      ]
     },
     "execution_count": 45,
     "metadata": {},
     "output_type": "execute_result"
    }
   ],
   "source": [
    "#Find the maximum value\n",
    "ds= max(m)\n",
    "ds"
   ]
  },
  {
   "cell_type": "code",
   "execution_count": 46,
   "id": "76cd6bf3",
   "metadata": {},
   "outputs": [
    {
     "data": {
      "text/plain": [
       "5"
      ]
     },
     "execution_count": 46,
     "metadata": {},
     "output_type": "execute_result"
    }
   ],
   "source": [
    "# Find the minimum value\n",
    "ds=min(m)\n",
    "ds"
   ]
  },
  {
   "cell_type": "markdown",
   "id": "967fdec8",
   "metadata": {},
   "source": [
    "### 10.\tConvert a tuple of strings into a single string, with each element separated by a comma, using tuple methods.\n",
    "\n"
   ]
  },
  {
   "cell_type": "code",
   "execution_count": 47,
   "id": "6087ff57",
   "metadata": {},
   "outputs": [],
   "source": [
    "tuple = (\"apple\", \"banana\", \"cherry\", \"date\")\n"
   ]
  },
  {
   "cell_type": "code",
   "execution_count": 54,
   "id": "e2320adb",
   "metadata": {},
   "outputs": [],
   "source": [
    "str=\", \".join(tuple)"
   ]
  },
  {
   "cell_type": "code",
   "execution_count": 55,
   "id": "b0d25a68",
   "metadata": {},
   "outputs": [
    {
     "data": {
      "text/plain": [
       "'apple, banana, cherry, date'"
      ]
     },
     "execution_count": 55,
     "metadata": {},
     "output_type": "execute_result"
    }
   ],
   "source": [
    "str"
   ]
  },
  {
   "cell_type": "markdown",
   "id": "022b4cf9",
   "metadata": {},
   "source": [
    "### 11.\tGiven two sets, return the union of the two sets using a set operation."
   ]
  },
  {
   "cell_type": "code",
   "execution_count": 56,
   "id": "38d936e4",
   "metadata": {},
   "outputs": [],
   "source": [
    "set1 = {1, 2, 3, 4}\n",
    "set2 = {3, 4, 5, 6}\n",
    "ds=set1.union(set2)"
   ]
  },
  {
   "cell_type": "code",
   "execution_count": 57,
   "id": "6bb069c9",
   "metadata": {},
   "outputs": [
    {
     "data": {
      "text/plain": [
       "{1, 2, 3, 4, 5, 6}"
      ]
     },
     "execution_count": 57,
     "metadata": {},
     "output_type": "execute_result"
    }
   ],
   "source": [
    "ds"
   ]
  },
  {
   "cell_type": "markdown",
   "id": "7d0caa9a",
   "metadata": {},
   "source": [
    "### 12.\tFind the intersection of two sets using a set method."
   ]
  },
  {
   "cell_type": "code",
   "execution_count": 58,
   "id": "a7afc79a",
   "metadata": {},
   "outputs": [
    {
     "data": {
      "text/plain": [
       "{3, 4}"
      ]
     },
     "execution_count": 58,
     "metadata": {},
     "output_type": "execute_result"
    }
   ],
   "source": [
    "ds1=set1.intersection(set2)\n",
    "ds1"
   ]
  },
  {
   "cell_type": "markdown",
   "id": "4687695f",
   "metadata": {},
   "source": [
    "### 13.\tRemove all elements from one set that are also present in another set using a set method.\n",
    "\n"
   ]
  },
  {
   "cell_type": "code",
   "execution_count": 59,
   "id": "5265d1ea",
   "metadata": {},
   "outputs": [],
   "source": [
    "set1 = {1, 2, 3, 4, 5}\n",
    "set2 = {3, 4, 5, 6}"
   ]
  },
  {
   "cell_type": "code",
   "execution_count": 60,
   "id": "f6a201c9",
   "metadata": {},
   "outputs": [],
   "source": [
    "set1.difference_update(set2)"
   ]
  },
  {
   "cell_type": "code",
   "execution_count": 61,
   "id": "525435c2",
   "metadata": {},
   "outputs": [
    {
     "data": {
      "text/plain": [
       "{1, 2}"
      ]
     },
     "execution_count": 61,
     "metadata": {},
     "output_type": "execute_result"
    }
   ],
   "source": [
    "set1"
   ]
  },
  {
   "cell_type": "code",
   "execution_count": 63,
   "id": "a640bb68",
   "metadata": {},
   "outputs": [],
   "source": [
    "set2.difference_update(set1)"
   ]
  },
  {
   "cell_type": "code",
   "execution_count": 64,
   "id": "ee76a29e",
   "metadata": {},
   "outputs": [
    {
     "data": {
      "text/plain": [
       "{3, 4, 5, 6}"
      ]
     },
     "execution_count": 64,
     "metadata": {},
     "output_type": "execute_result"
    }
   ],
   "source": [
    "set2"
   ]
  },
  {
   "cell_type": "markdown",
   "id": "30b9b108",
   "metadata": {},
   "source": [
    "###  14.\tFind the difference between two sets using a set method."
   ]
  },
  {
   "cell_type": "code",
   "execution_count": 65,
   "id": "277f2d36",
   "metadata": {},
   "outputs": [
    {
     "data": {
      "text/plain": [
       "{1, 2}"
      ]
     },
     "execution_count": 65,
     "metadata": {},
     "output_type": "execute_result"
    }
   ],
   "source": [
    "set1 = {1, 2, 3, 4, 5}\n",
    "set2 = {3, 4, 5, 6}\n",
    "ds = set1.difference(set2)\n",
    "ds"
   ]
  },
  {
   "cell_type": "markdown",
   "id": "a5d5646f",
   "metadata": {},
   "source": [
    "### 15.\tConvert a list of integers into a set and then back to a list to remove duplicates, using set operations"
   ]
  },
  {
   "cell_type": "code",
   "execution_count": 69,
   "id": "834d54d0",
   "metadata": {},
   "outputs": [
    {
     "data": {
      "text/plain": [
       "[1, 2, 3, 4, 5]"
      ]
     },
     "execution_count": 69,
     "metadata": {},
     "output_type": "execute_result"
    }
   ],
   "source": [
    "lst = [1, 2, 2, 3, 4, 4, 5]\n",
    "unique_set = set(lst)\n",
    "ds= list(unique_set)\n",
    "ds"
   ]
  },
  {
   "cell_type": "markdown",
   "id": "5da655f9",
   "metadata": {},
   "source": [
    "### 16.\tMerge two dictionaries into a single dictionary using a dictionary method."
   ]
  },
  {
   "cell_type": "code",
   "execution_count": 72,
   "id": "94fb1d08",
   "metadata": {},
   "outputs": [
    {
     "name": "stdout",
     "output_type": "stream",
     "text": [
      "{'a': 1, 'b': 3, 'c': 4}\n"
     ]
    }
   ],
   "source": [
    "ict1 = {'a': 1, 'b': 2}\n",
    "dict2 = {'b': 3, 'c': 4}\n",
    "\n",
    "# Merge dict2 into dict1\n",
    "dict1.update(dict2)\n",
    "\n",
    "print(dict1)"
   ]
  },
  {
   "cell_type": "markdown",
   "id": "fde4236a",
   "metadata": {},
   "source": [
    "###  17.\tExtract all values from a dictionary into a list using a dictionary method.\n",
    "\n"
   ]
  },
  {
   "cell_type": "code",
   "execution_count": 71,
   "id": "fdf29d18",
   "metadata": {},
   "outputs": [
    {
     "name": "stdout",
     "output_type": "stream",
     "text": [
      "[1, 2, 3]\n"
     ]
    }
   ],
   "source": [
    "my_dict = {'a': 1, 'b': 2, 'c': 3}\n",
    "\n",
    "# Extract all values into a list\n",
    "values_list = list(my_dict.values())\n",
    "\n",
    "print(values_list)  "
   ]
  },
  {
   "cell_type": "code",
   "execution_count": null,
   "id": "f86da007",
   "metadata": {},
   "outputs": [],
   "source": []
  }
 ],
 "metadata": {
  "kernelspec": {
   "display_name": "Python 3 (ipykernel)",
   "language": "python",
   "name": "python3"
  },
  "language_info": {
   "codemirror_mode": {
    "name": "ipython",
    "version": 3
   },
   "file_extension": ".py",
   "mimetype": "text/x-python",
   "name": "python",
   "nbconvert_exporter": "python",
   "pygments_lexer": "ipython3",
   "version": "3.11.5"
  }
 },
 "nbformat": 4,
 "nbformat_minor": 5
}
